{
  "cells": [
    {
      "cell_type": "code",
      "execution_count": null,
      "metadata": {
        "id": "a5Z--5QmgU2y"
      },
      "outputs": [],
      "source": [
        "class Stack:\n",
        "\n",
        "  def __init__(self,size):\n",
        "    self.size = size\n",
        "    self.__stack = [None] * self.size\n",
        "    self.top = -1\n",
        "\n",
        "  def push(self,value):\n",
        "\n",
        "    if self.top == self.size - 1:\n",
        "      return \"Overflow\"\n",
        "    else:\n",
        "      self.top+=1\n",
        "      self.stack[self.top] = value\n",
        "\n",
        "  def pop(self):\n",
        "\n",
        "    if self.top == -1:\n",
        "      return \"Empty\"\n",
        "    else:\n",
        "      data = self.stack[self.top]\n",
        "      self.top-=1\n",
        "      print(data)\n",
        "\n",
        "  def traverse(self):\n",
        "\n",
        "    for i in range(self.top + 1):\n",
        "      print(self.stack[i],end=' ')\n",
        "\n",
        "\n"
      ]
    },
    {
      "cell_type": "code",
      "execution_count": null,
      "metadata": {
        "id": "NNTP4kXygv2d"
      },
      "outputs": [],
      "source": [
        "s = Stack(3)"
      ]
    },
    {
      "cell_type": "code",
      "execution_count": null,
      "metadata": {
        "colab": {
          "base_uri": "https://localhost:8080/"
        },
        "id": "MWh7McaggyFV",
        "outputId": "66724a9c-1414-43e2-ec69-1e54733c9023"
      },
      "outputs": [
        {
          "data": {
            "text/plain": [
              "[4, 5, 6]"
            ]
          },
          "execution_count": 34,
          "metadata": {
            "tags": []
          },
          "output_type": "execute_result"
        }
      ],
      "source": [
        "s.stack"
      ]
    },
    {
      "cell_type": "code",
      "execution_count": null,
      "metadata": {
        "id": "jz9odQBpgz3r"
      },
      "outputs": [],
      "source": [
        "s.push(4)"
      ]
    },
    {
      "cell_type": "code",
      "execution_count": null,
      "metadata": {
        "id": "MGwhjaCQhXQV"
      },
      "outputs": [],
      "source": [
        "s.push(5)"
      ]
    },
    {
      "cell_type": "code",
      "execution_count": null,
      "metadata": {
        "id": "RxEcP-mphf1g"
      },
      "outputs": [],
      "source": [
        "s.push(6)"
      ]
    },
    {
      "cell_type": "code",
      "execution_count": null,
      "metadata": {
        "colab": {
          "base_uri": "https://localhost:8080/"
        },
        "id": "vQtQ-GNLhl7x",
        "outputId": "0a387076-6bcf-42d6-ba44-70b64aedb1a0"
      },
      "outputs": [
        {
          "name": "stdout",
          "output_type": "stream",
          "text": [
            "6\n"
          ]
        }
      ],
      "source": [
        "s.pop()"
      ]
    },
    {
      "cell_type": "code",
      "execution_count": null,
      "metadata": {
        "colab": {
          "base_uri": "https://localhost:8080/"
        },
        "id": "WEtUHwWqhr4R",
        "outputId": "f4494beb-1080-4cb9-b36b-1d9789afeac6"
      },
      "outputs": [
        {
          "name": "stdout",
          "output_type": "stream",
          "text": [
            "5\n"
          ]
        }
      ],
      "source": [
        "s.pop()"
      ]
    },
    {
      "cell_type": "code",
      "execution_count": null,
      "metadata": {
        "colab": {
          "base_uri": "https://localhost:8080/"
        },
        "id": "qnel184ziXlN",
        "outputId": "c4aa5bb0-1421-4490-b485-bb6e7260791e"
      },
      "outputs": [
        {
          "name": "stdout",
          "output_type": "stream",
          "text": [
            "4\n"
          ]
        }
      ],
      "source": [
        "s.pop()"
      ]
    },
    {
      "cell_type": "code",
      "execution_count": null,
      "metadata": {
        "colab": {
          "base_uri": "https://localhost:8080/",
          "height": 35
        },
        "id": "JkUtaiZdiacd",
        "outputId": "8f9cbb9d-870c-4383-acfe-736bfde5ceba"
      },
      "outputs": [
        {
          "data": {
            "application/vnd.google.colaboratory.intrinsic+json": {
              "type": "string"
            },
            "text/plain": [
              "'Empty'"
            ]
          },
          "execution_count": 54,
          "metadata": {
            "tags": []
          },
          "output_type": "execute_result"
        }
      ],
      "source": [
        "s.pop()"
      ]
    },
    {
      "cell_type": "code",
      "execution_count": null,
      "metadata": {
        "colab": {
          "base_uri": "https://localhost:8080/"
        },
        "id": "eJymQRFoidPA",
        "outputId": "4a455b1f-8262-4113-c055-0f9d1b56334f"
      },
      "outputs": [
        {
          "name": "stdout",
          "output_type": "stream",
          "text": [
            "5 "
          ]
        }
      ],
      "source": [
        "s.traverse()"
      ]
    },
    {
      "cell_type": "code",
      "execution_count": null,
      "metadata": {
        "id": "YnySdksri9z3"
      },
      "outputs": [],
      "source": [
        "s.push(5)"
      ]
    },
    {
      "cell_type": "code",
      "execution_count": null,
      "metadata": {
        "id": "Px-om90CjL8A"
      },
      "outputs": [],
      "source": []
    }
  ],
  "metadata": {
    "colab": {
      "provenance": []
    },
    "kernelspec": {
      "display_name": "Python 3",
      "name": "python3"
    }
  },
  "nbformat": 4,
  "nbformat_minor": 0
}
