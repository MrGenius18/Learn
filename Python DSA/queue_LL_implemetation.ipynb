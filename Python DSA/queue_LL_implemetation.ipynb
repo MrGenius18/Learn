{
  "cells": [
    {
      "cell_type": "code",
      "execution_count": 1,
      "metadata": {
        "id": "PurBULUa-0Ud"
      },
      "outputs": [],
      "source": [
        "class Node:\n",
        "\n",
        "  def __init__(self,value):\n",
        "\n",
        "    self.data = value\n",
        "    self.next = None"
      ]
    },
    {
      "cell_type": "code",
      "execution_count": null,
      "metadata": {
        "id": "crm3gdWj_n8i"
      },
      "outputs": [],
      "source": [
        "class Queue:\n",
        "\n",
        "  def __init__(self):\n",
        "    self.front = None\n",
        "    self.rear = None\n",
        "\n",
        "  def enqueue(self,value):\n",
        "    new_node = Node(value)\n",
        "\n",
        "    if self.front == None:\n",
        "      self.front = new_node\n",
        "      self.rear = new_node\n",
        "    else:\n",
        "      self.rear.next = new_node\n",
        "      self.rear = new_node\n",
        "\n",
        "  def dequeue(self):\n",
        "\n",
        "    if self.front == None:\n",
        "      return \"Queue empty\"\n",
        "    else:\n",
        "      self.front = self.front.next\n",
        "\n",
        "  def is_empty(self):\n",
        "    return self.front == None\n",
        "\n",
        "  def front_item(self):\n",
        "    if (not self.is_empty()):\n",
        "      return self.front.data\n",
        "    else:\n",
        "      return \"Empty queue\"\n",
        "\n",
        "  def rear_item(self):\n",
        "    if (not self.is_empty()):\n",
        "      return self.rear.data\n",
        "    else:\n",
        "      return \"Empty queue\"\n",
        "\n",
        "  def traverse(self):\n",
        "\n",
        "    temp = self.front\n",
        "    while temp != None:\n",
        "      print(temp.data, end=' ')\n",
        "      temp = temp.next"
      ]
    },
    {
      "cell_type": "code",
      "execution_count": 3,
      "metadata": {
        "id": "It7a1H5kBfbF"
      },
      "outputs": [],
      "source": [
        "q = Queue()"
      ]
    },
    {
      "cell_type": "code",
      "execution_count": 10,
      "metadata": {
        "id": "tsInv6hyBhUn"
      },
      "outputs": [],
      "source": [
        "q.enqueue(3)\n",
        "q.enqueue(4)\n",
        "q.enqueue(5)\n",
        "q.enqueue(7)"
      ]
    },
    {
      "cell_type": "code",
      "execution_count": 16,
      "metadata": {
        "id": "ImvsCMX5Bm7S"
      },
      "outputs": [
        {
          "name": "stdout",
          "output_type": "stream",
          "text": [
            "3 4 5 7 8 "
          ]
        }
      ],
      "source": [
        "q.traverse()"
      ]
    },
    {
      "cell_type": "code",
      "execution_count": null,
      "metadata": {
        "id": "q7wOxuqpEgoD"
      },
      "outputs": [],
      "source": [
        "def check_balanced_parenthesis(s):\n",
        "    stk = Stack()\n",
        "    for item in s:\n",
        "        if item == '(':\n",
        "            stk.push(item)\n",
        "        elif item == '{':\n",
        "            stk.push(item)\n",
        "        elif item == '[':\n",
        "            stk.push(item)\n",
        "        elif item == ')':\n",
        "            if stk.peek() == '(':\n",
        "                stk.pop()\n",
        "            else:\n",
        "                return False\n",
        "        elif item == '}':\n",
        "            if stk.peek() == '{':\n",
        "                stk.pop()\n",
        "            else:\n",
        "                return False\n",
        "        elif item == ']':\n",
        "            if stk.peek() == '[':\n",
        "                stk.pop()\n",
        "            else:\n",
        "                return False\n",
        "        else:\n",
        "            continue\n",
        "            \n",
        "    return stk.is_empty()\n",
        "\n",
        "s=\"{[(a+b) + (c+d)]}\"\n",
        "print(check_balanced_parenthesis(s))\n"
      ]
    }
  ],
  "metadata": {
    "colab": {
      "provenance": []
    },
    "kernelspec": {
      "display_name": "Python 3",
      "name": "python3"
    },
    "language_info": {
      "codemirror_mode": {
        "name": "ipython",
        "version": 3
      },
      "file_extension": ".py",
      "mimetype": "text/x-python",
      "name": "python",
      "nbconvert_exporter": "python",
      "pygments_lexer": "ipython3",
      "version": "3.13.1"
    }
  },
  "nbformat": 4,
  "nbformat_minor": 0
}
