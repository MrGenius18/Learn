{
  "cells": [
    {
      "cell_type": "code",
      "execution_count": 1,
      "metadata": {
        "id": "hZmdW65Hrg8u"
      },
      "outputs": [],
      "source": [
        "class Node:\n",
        "\n",
        "  def __init__(self,value):\n",
        "    self.data = value\n",
        "    self.next = None"
      ]
    },
    {
      "cell_type": "code",
      "execution_count": null,
      "metadata": {
        "id": "rtt-E3Borsef"
      },
      "outputs": [],
      "source": [
        "class Stack:\n",
        "\n",
        "  def __init__(self):\n",
        "    self.top = None\n",
        "  \n",
        "  def is_empty(self):\n",
        "    return self.top == None\n",
        "\n",
        "  def push(self, value):\n",
        "    new_node = Node(value)\n",
        "    new_node.next = self.top\n",
        "    self.top = new_node\n",
        "\n",
        "  def pop(self):\n",
        "\n",
        "    if self.top == None:\n",
        "      return \"Stack Empty\"\n",
        "    else:\n",
        "      data = self.top.data\n",
        "      self.top = self.top.next\n",
        "      return data\n",
        "\n",
        "  def peek(self):\n",
        "\n",
        "    if self.top == None:\n",
        "      return \"Stack Empty\"\n",
        "    else:\n",
        "      return self.top.data\n",
        "\n",
        "  def traverse(self):\n",
        "\n",
        "    temp = self.top\n",
        "    while temp != None:\n",
        "      print(temp.data, end=' ')\n",
        "      temp = temp.next\n",
        "\n",
        "  def size(self):\n",
        "\n",
        "    temp = self.top\n",
        "    counter = 0\n",
        "    while temp is not None:\n",
        "      temp = temp.next\n",
        "      counter+=1\n",
        "\n",
        "    return counter"
      ]
    },
    {
      "cell_type": "code",
      "execution_count": 55,
      "metadata": {},
      "outputs": [],
      "source": [
        "s=Stack()"
      ]
    },
    {
      "cell_type": "code",
      "execution_count": 65,
      "metadata": {},
      "outputs": [
        {
          "data": {
            "text/plain": [
              "(True, 'Stack Empty')"
            ]
          },
          "execution_count": 65,
          "metadata": {},
          "output_type": "execute_result"
        }
      ],
      "source": [
        "s.is_empty(), s.peek()"
      ]
    },
    {
      "cell_type": "code",
      "execution_count": 66,
      "metadata": {},
      "outputs": [],
      "source": [
        "s.traverse()"
      ]
    },
    {
      "cell_type": "code",
      "execution_count": 58,
      "metadata": {},
      "outputs": [],
      "source": [
        "s.push(1)\n",
        "s.push(2)\n",
        "s.push(3)"
      ]
    },
    {
      "cell_type": "code",
      "execution_count": 64,
      "metadata": {},
      "outputs": [
        {
          "data": {
            "text/plain": [
              "1"
            ]
          },
          "execution_count": 64,
          "metadata": {},
          "output_type": "execute_result"
        }
      ],
      "source": [
        "s.pop()"
      ]
    },
    {
      "cell_type": "code",
      "execution_count": null,
      "metadata": {},
      "outputs": [],
      "source": [
        "##########################3"
      ]
    },
    {
      "cell_type": "code",
      "execution_count": 67,
      "metadata": {
        "id": "BGbRtvBtsxWv"
      },
      "outputs": [
        {
          "data": {
            "text/plain": [
              "'aidlaH'"
            ]
          },
          "execution_count": 67,
          "metadata": {},
          "output_type": "execute_result"
        }
      ],
      "source": [
        "def reverse_string(string):\n",
        "  s = Stack()\n",
        "  for i in string:\n",
        "    s.push(i)\n",
        "\n",
        "  res = \"\"\n",
        "  while (not s.is_empty()):\n",
        "    res = res + s.pop()\n",
        "\n",
        "  return res\n",
        "\n",
        "reverse_string(\"Haldia\")"
      ]
    },
    {
      "cell_type": "code",
      "execution_count": 68,
      "metadata": {
        "id": "ZrgxN_GUs3qz"
      },
      "outputs": [
        {
          "data": {
            "text/plain": [
              "'He'"
            ]
          },
          "execution_count": 68,
          "metadata": {},
          "output_type": "execute_result"
        }
      ],
      "source": [
        "def text_editor(text,pattern):\n",
        "\n",
        "  u = Stack()\n",
        "  r = Stack()\n",
        "  for i in text:\n",
        "    u.push(i)\n",
        "\n",
        "  for i in pattern:\n",
        "    if i == 'u':\n",
        "      data = u.pop()\n",
        "      r.push(data)\n",
        "    else:\n",
        "      data = r.pop()\n",
        "      u.push(data)\n",
        "\n",
        "  res = \"\"\n",
        "  while(not u.is_empty()):\n",
        "    res = u.pop() + res\n",
        "    \n",
        "  return res\n",
        "\n",
        "text_editor(\"Hello\",\"uurruuuur\")"
      ]
    },
    {
      "cell_type": "code",
      "execution_count": null,
      "metadata": {
        "id": "KAK7xz32uAYC"
      },
      "outputs": [],
      "source": [
        "def brackets(expr):\n",
        "\n",
        "  s = Stack()\n",
        "  for i in expr:\n",
        "    if i == '(':\n",
        "      s.push(i)\n",
        "    elif i == ')':\n",
        "      if s.peek() == '(':\n",
        "        s.pop()\n",
        "      else:\n",
        "        print(\"Imbalanced\")\n",
        "        return \n",
        "\n",
        "  if (s.is_empty()):\n",
        "    print(\"Balanced\")\n",
        "  else:\n",
        "    print(\"Imbalanced\")\n",
        "\n"
      ]
    },
    {
      "cell_type": "code",
      "execution_count": 76,
      "metadata": {
        "id": "QaLvtu9G1TNI"
      },
      "outputs": [],
      "source": [
        "L = [\n",
        "     [0,1,1,0],\n",
        "     [0,0,1,1],\n",
        "     [0,0,0,0],\n",
        "     [0,0,1,0]\n",
        "]"
      ]
    },
    {
      "cell_type": "code",
      "execution_count": null,
      "metadata": {
        "id": "o8VYAoTf1Xd4"
      },
      "outputs": [
        {
          "data": {
            "text/plain": [
              "'Celebrity is 2'"
            ]
          },
          "execution_count": 81,
          "metadata": {},
          "output_type": "execute_result"
        }
      ],
      "source": [
        "def celebrity(L):\n",
        "\n",
        "  s = Stack()\n",
        "  for i in range(len(L)):\n",
        "    s.push(i)\n",
        "\n",
        "  while s.size() >= 2:\n",
        "    i = s.pop()\n",
        "    j = s.pop()\n",
        "    if L[i][j] == 0:\n",
        "      s.push(i) # j is not a celebrity\n",
        "    else:  \n",
        "      s.push(j) # i is not a celebrity\n",
        "\n",
        "  cel = s.pop()\n",
        "  for i in range(len(L)):\n",
        "    if i != cel:\n",
        "      if L[i][cel] != 1 or L[cel][i] != 0:\n",
        "        return \"No one is a celebrity\"\n",
        "      \n",
        "  return f\"Celebrity is {cel}\"\n",
        "\n",
        "celebrity(L)"
      ]
    },
    {
      "cell_type": "code",
      "execution_count": null,
      "metadata": {
        "colab": {
          "base_uri": "https://localhost:8080/"
        },
        "id": "aHFtqsXH3i8y",
        "outputId": "d0031394-070d-43bc-d629-13012308e8ce"
      },
      "outputs": [
        {
          "data": {
            "text/plain": [
              "3"
            ]
          },
          "execution_count": 31,
          "metadata": {
            "tags": []
          },
          "output_type": "execute_result"
        }
      ],
      "source": [
        "s=Stack()\n",
        "s.push(1)\n",
        "s.push(2)\n",
        "s.push(3)\n",
        "\n",
        "s.size()"
      ]
    },
    {
      "cell_type": "code",
      "execution_count": null,
      "metadata": {
        "id": "lWg-PCxT4THU"
      },
      "outputs": [],
      "source": [
        "a = Stack()\n",
        "b = Stack()"
      ]
    },
    {
      "cell_type": "code",
      "execution_count": null,
      "metadata": {
        "id": "I5I6UDEOHneS"
      },
      "outputs": [],
      "source": [
        "def enqueue_stack(value):\n",
        "  a.push(value)\n",
        "\n",
        "def dequeue_stack():\n",
        "\n",
        "  if not b.is_empty():\n",
        "    b.pop()\n",
        "  else:\n",
        "    if a.is_empty():\n",
        "      print(\"Empty queue\")\n",
        "    else:\n",
        "      while(not a.is_empty()):\n",
        "        data = a.pop()\n",
        "        b.push(data)\n",
        "\n",
        "      b.pop()"
      ]
    }
  ],
  "metadata": {
    "colab": {
      "provenance": []
    },
    "kernelspec": {
      "display_name": "Python 3",
      "name": "python3"
    },
    "language_info": {
      "codemirror_mode": {
        "name": "ipython",
        "version": 3
      },
      "file_extension": ".py",
      "mimetype": "text/x-python",
      "name": "python",
      "nbconvert_exporter": "python",
      "pygments_lexer": "ipython3",
      "version": "3.13.1"
    }
  },
  "nbformat": 4,
  "nbformat_minor": 0
}
