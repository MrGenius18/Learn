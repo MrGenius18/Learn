{
  "cells": [
    {
      "cell_type": "code",
      "execution_count": null,
      "metadata": {
        "id": "jqVB3ib40scd"
      },
      "outputs": [],
      "source": [
        "'Linear' & 'Binary' Searching\n",
        "\n",
        "'Monkey' 'Bubble' 'Selection' 'Merge' 'Quick' Sorting"
      ]
    },
    {
      "cell_type": "markdown",
      "metadata": {},
      "source": [
        "### **Searching**"
      ]
    },
    {
      "cell_type": "code",
      "execution_count": 36,
      "metadata": {
        "id": "Vcoqh6ob1dwG"
      },
      "outputs": [
        {
          "name": "stdout",
          "output_type": "stream",
          "text": [
            "-1\n"
          ]
        }
      ],
      "source": [
        "# Linear Search based on Brute Force\n",
        "\n",
        "def linear_search(arr, item):\n",
        "\n",
        "  for i in range(len(arr)):\n",
        "    if arr[i] == item:\n",
        "      return i\n",
        "\n",
        "  return -1\n",
        "\n",
        "arr = [12,34,56,1,67,100,47,99]\n",
        "print(linear_search(arr, 121))"
      ]
    },
    {
      "cell_type": "code",
      "execution_count": 37,
      "metadata": {
        "id": "m1_ZWchm2dRL"
      },
      "outputs": [
        {
          "name": "stdout",
          "output_type": "stream",
          "text": [
            "6\n"
          ]
        }
      ],
      "source": [
        "# Binary Search need Sorted Array \n",
        "\n",
        "def binary_search(arr, low, high, item):\n",
        "\n",
        "  if low <= high:\n",
        "    mid = (low + high)//2\n",
        "\n",
        "    if arr[mid] == item:\n",
        "      return mid\n",
        "    elif arr[mid] > item:\n",
        "      return binary_search(arr, low, mid-1,item)\n",
        "    else:\n",
        "      return binary_search(arr,mid+1,high,item)\n",
        "    \n",
        "  else:\n",
        "    return -1\n",
        "\n",
        "arr = [12,24,35,46,57,68,80,99,100]\n",
        "print(binary_search(arr,0,len(arr)-1,80))"
      ]
    },
    {
      "cell_type": "markdown",
      "metadata": {},
      "source": [
        "### **is Sorted**"
      ]
    },
    {
      "cell_type": "code",
      "execution_count": null,
      "metadata": {
        "id": "y2akKfUq4YQR"
      },
      "outputs": [
        {
          "data": {
            "text/plain": [
              "False"
            ]
          },
          "execution_count": 40,
          "metadata": {},
          "output_type": "execute_result"
        }
      ],
      "source": [
        "def is_sorted(arr):\n",
        "  sorted = True\n",
        "\n",
        "  for i in range(len(arr) - 1):\n",
        "    if arr[i]>arr[i+1]:\n",
        "      sorted = False\n",
        "  \n",
        "  return sorted\n",
        "\n",
        "arr = [1,2,3,4,8,6]\n",
        "is_sorted(arr)"
      ]
    },
    {
      "cell_type": "markdown",
      "metadata": {},
      "source": [
        "### **Monkey Sort**"
      ]
    },
    {
      "cell_type": "code",
      "execution_count": null,
      "metadata": {
        "id": "1w7aQ4DO7C6U"
      },
      "outputs": [],
      "source": [
        "import random\n",
        "def monkey_sort(arr):\n",
        "\n",
        "  while not is_sorted(arr):\n",
        "    random.shuffle(arr)\n",
        "    print(arr)\n",
        "  print(arr)\n",
        "\n",
        "a = [12,24,11,56,34,20]\n",
        "monkey_sort(a)"
      ]
    },
    {
      "cell_type": "markdown",
      "metadata": {},
      "source": [
        "### **Bubble Sort**"
      ]
    },
    {
      "cell_type": "code",
      "execution_count": 66,
      "metadata": {
        "id": "u_lW50sxGJiZ"
      },
      "outputs": [
        {
          "data": {
            "text/plain": [
              "[11, 12, 23, 34, 56, 78, 100]"
            ]
          },
          "execution_count": 66,
          "metadata": {},
          "output_type": "execute_result"
        }
      ],
      "source": [
        "def bubble_sort(arr):\n",
        "\n",
        "  for i in range(len(arr) - 1):\n",
        "    flag = 0\n",
        "    for j in range(len(arr) - 1 - i):\n",
        "      if arr[j] > arr[j+1]:\n",
        "        arr[j],arr[j+1] = arr[j+1],arr[j]\n",
        "        flag = 1\n",
        "    if flag == 0:\n",
        "      break\n",
        "\n",
        "  return arr\n",
        "\n",
        "arr = [23,12,34,11,100,56,78]\n",
        "bubble_sort(arr)"
      ]
    },
    {
      "cell_type": "markdown",
      "metadata": {},
      "source": [
        "### **Selection Sort**"
      ]
    },
    {
      "cell_type": "code",
      "execution_count": null,
      "metadata": {
        "id": "dVWdsgFfHFie"
      },
      "outputs": [],
      "source": [
        "def selection_sort(arr):\n",
        "\n",
        "  for i in range(len(arr) - 1):\n",
        "    min = i\n",
        "    for j in range(i+1, len(arr)):\n",
        "      if arr[j] < arr[min]:\n",
        "        min = j\n",
        "    arr[i],arr[min] = arr[min],arr[i]\n",
        "\n",
        "  return arr\n",
        "\n",
        "arr = [23,12,34,11,100,56,78]\n",
        "selection_sort(arr)"
      ]
    },
    {
      "cell_type": "markdown",
      "metadata": {},
      "source": [
        "### **Merge Sort**"
      ]
    },
    {
      "cell_type": "code",
      "execution_count": 82,
      "metadata": {
        "id": "e5Skvkui0uVx"
      },
      "outputs": [],
      "source": [
        "def merge_arrays(arr1,arr2, arr):\n",
        "  i = j = k = 0\n",
        "\n",
        "  while i<len(arr1) and j<len(arr2):\n",
        "    if arr1[i] < arr2[j]:\n",
        "      arr[k] = arr1[i]\n",
        "      i+=1\n",
        "    else:\n",
        "      arr[k] = arr2[j]\n",
        "      j+=1\n",
        "    k+=1\n",
        "\n",
        "  while i < len(arr1):\n",
        "    arr[k] = arr1[i]\n",
        "    i+=1\n",
        "    k+=1\n",
        "  while j < len(arr2):\n",
        "    arr[k] = arr2[j]\n",
        "    j+=1\n",
        "    k+=1\n",
        "  \n",
        "  return"
      ]
    },
    {
      "cell_type": "code",
      "execution_count": 83,
      "metadata": {
        "colab": {
          "background_save": true
        },
        "id": "LVpNBTZM2BpS"
      },
      "outputs": [
        {
          "name": "stdout",
          "output_type": "stream",
          "text": [
            "[0, 1, 2, 4, 5, 6, 7, 9]\n"
          ]
        }
      ],
      "source": [
        "def merge_sort(arr):\n",
        "  \n",
        "  if len(arr) == 1:\n",
        "    return arr\n",
        "  \n",
        "  mid = len(arr)//2\n",
        "  left = arr[:mid]\n",
        "  right = arr[mid:]\n",
        "\n",
        "  merge_sort(left)\n",
        "  merge_sort(right)\n",
        "\n",
        "  merge_arrays(left, right, arr)\n",
        "\n",
        "arr = [2,5,1,6,4,7,9,0]\n",
        "merge_sort(arr)\n",
        "print(arr)"
      ]
    },
    {
      "cell_type": "markdown",
      "metadata": {},
      "source": [
        "### **Quick sort**"
      ]
    },
    {
      "cell_type": "code",
      "execution_count": 84,
      "metadata": {
        "id": "4UzPu-WZxpTQ"
      },
      "outputs": [
        {
          "data": {
            "text/plain": [
              "[1, 2, 3, 4, 5, 6, 7]"
            ]
          },
          "execution_count": 84,
          "metadata": {},
          "output_type": "execute_result"
        }
      ],
      "source": [
        "def quick_sort(arr):\n",
        "\n",
        "  if len(arr) <= 1:\n",
        "    return arr\n",
        "\n",
        "  pivot = arr.pop()\n",
        "  items_left = []\n",
        "  items_right = []\n",
        "\n",
        "  for item in arr:\n",
        "    if item < pivot:\n",
        "      items_left.append(item)\n",
        "    else:\n",
        "      items_right.append(item)\n",
        "\n",
        "  return quick_sort(items_left) + [pivot] + quick_sort(items_right)\n",
        "\n",
        "arr = [2,1,4,6,3,7,5]\n",
        "quick_sort(arr)"
      ]
    },
    {
      "cell_type": "code",
      "execution_count": 88,
      "metadata": {
        "id": "PNf7neZ1yZ1s"
      },
      "outputs": [],
      "source": [
        "def quick_sort(arr,low,high):\n",
        "\n",
        "  if len(arr) == 1:\n",
        "    return arr\n",
        "\n",
        "  if low < high:\n",
        "\n",
        "    pi = partition(arr,low,high)\n",
        "\n",
        "    quick_sort(arr,low,pi-1)\n",
        "    quick_sort(arr,pi+1,high)"
      ]
    },
    {
      "cell_type": "code",
      "execution_count": 89,
      "metadata": {
        "id": "RqlGnvbu4t2b"
      },
      "outputs": [],
      "source": [
        "def partition(arr,low,high):\n",
        "\n",
        "  i = low - 1\n",
        "  pivot = arr[high]\n",
        "\n",
        "  for j in range(low,high):\n",
        "\n",
        "    if arr[j] <= pivot:\n",
        "      i+=1\n",
        "      arr[i],arr[j] = arr[j],arr[i]\n",
        "  arr[i+1],arr[high] = arr[high],arr[i+1]\n",
        "\n",
        "  return i+1"
      ]
    },
    {
      "cell_type": "code",
      "execution_count": 90,
      "metadata": {
        "colab": {
          "base_uri": "https://localhost:8080/"
        },
        "id": "6k7ip8Fm5fx7",
        "outputId": "f29344d4-f23d-41fa-e6c9-44f895de6b55"
      },
      "outputs": [
        {
          "name": "stdout",
          "output_type": "stream",
          "text": [
            "[1, 5, 7, 8, 9, 10]\n"
          ]
        }
      ],
      "source": [
        "arr = [10, 7, 8, 9, 1, 5] \n",
        "quick_sort(arr, 0, len(arr)-1)\n",
        "print(arr)"
      ]
    }
  ],
  "metadata": {
    "colab": {
      "provenance": []
    },
    "kernelspec": {
      "display_name": "Python 3",
      "name": "python3"
    },
    "language_info": {
      "codemirror_mode": {
        "name": "ipython",
        "version": 3
      },
      "file_extension": ".py",
      "mimetype": "text/x-python",
      "name": "python",
      "nbconvert_exporter": "python",
      "pygments_lexer": "ipython3",
      "version": "3.13.1"
    }
  },
  "nbformat": 4,
  "nbformat_minor": 0
}
