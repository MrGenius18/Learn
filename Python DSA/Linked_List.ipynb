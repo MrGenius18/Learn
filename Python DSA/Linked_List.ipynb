{
  "cells": [
    {
      "cell_type": "code",
      "execution_count": 7,
      "metadata": {
        "id": "5iNlAQR3R91c"
      },
      "outputs": [],
      "source": [
        "class Node:\n",
        "  def __init__(self,value):\n",
        "    self.data = value\n",
        "    self.next = None"
      ]
    },
    {
      "cell_type": "code",
      "execution_count": 14,
      "metadata": {
        "id": "RzuzauLNScVg"
      },
      "outputs": [],
      "source": [
        "class LinkedList:\n",
        "\n",
        "  def __init__(self):\n",
        "    self.head = None # Empty Linked List\n",
        "    self.n = 0 # no of nodes in the LL\n",
        "\n",
        "  def __len__(self):\n",
        "    return self.n\n",
        "\n",
        "  def insert_head(self,value):\n",
        "    new_node = Node(value)\n",
        "    new_node.next = self.head # create connection\n",
        "    self.head = new_node      # reassign head\n",
        "    self.n = self.n + 1       # increment n\n",
        "\n",
        "  def __str__(self):\n",
        "    curr = self.head\n",
        "    result = ''\n",
        "\n",
        "    while curr != None:\n",
        "      result += str(curr.data) + \" \"\n",
        "      curr = curr.next\n",
        "    return result\n",
        "\n",
        "  def append(self,value):\n",
        "    new_node = Node(value)\n",
        "\n",
        "    if self.head == None: # empty\n",
        "      self.head = new_node\n",
        "      self.n = self.n + 1\n",
        "      return\n",
        "\n",
        "    curr = self.head\n",
        "    while curr.next != None: # traves to the last node\n",
        "      curr = curr.next\n",
        "\n",
        "    curr.next = new_node # you are at the last node\n",
        "    self.n = self.n + 1\n",
        "\n",
        "  def insert_after(self,after,value):\n",
        "    new_node = Node(value)\n",
        "\n",
        "    curr = self.head\n",
        "    while curr != None:\n",
        "      if curr.data == after:\n",
        "        break\n",
        "      curr = curr.next\n",
        "\n",
        "    if curr != None:\n",
        "      new_node.next = curr.next\n",
        "      curr.next = new_node\n",
        "      self.n = self.n + 1\n",
        "    else:\n",
        "      return 'Item not found'\n",
        "\n",
        "  def clear(self): # make empty\n",
        "    self.head = None\n",
        "    self.n = 0\n",
        "\n",
        "  def delete_head(self):\n",
        "\n",
        "    if self.head == None: # doesn't have node\n",
        "      return 'Empty LL'\n",
        "    \n",
        "    self.head = self.head.next\n",
        "    self.n = self.n - 1\n",
        "\n",
        "  def pop(self):\n",
        "\n",
        "    if self.head == None: # empty\n",
        "      return 'Empty LL'\n",
        "\n",
        "    curr = self.head\n",
        "    if curr.next == None: # only have one item\n",
        "      return self.delete_head() # so it's head so use that's function\n",
        "      \n",
        "    while curr.next.next != None:\n",
        "      curr = curr.next\n",
        "\n",
        "    curr.next = None # curr -> 2nd last node\n",
        "    self.n = self.n - 1\n",
        "\n",
        "  def remove(self,value):\n",
        "\n",
        "    if self.head == None: # empty\n",
        "      return 'Empty LL'\n",
        "\n",
        "    if self.head.data == value: # you want to remove the head node\n",
        "      return self.delete_head()\n",
        "\n",
        "    curr = self.head\n",
        "    while curr.next != None:\n",
        "      if curr.next.data == value:\n",
        "        break\n",
        "      curr = curr.next\n",
        "\n",
        "    if curr.next == None: # not found value\n",
        "      return 'Not Found'\n",
        "    else: \n",
        "      curr.next = curr.next.next\n",
        "      self.n = self.n - 1\n",
        "\n",
        "  def search(self,item):\n",
        "\n",
        "    curr = self.head\n",
        "    pos = 0\n",
        "\n",
        "    while curr != None:\n",
        "      if curr.data == item:\n",
        "        return pos\n",
        "      curr = curr.next\n",
        "      pos = pos + 1\n",
        "\n",
        "    return 'Not Found'\n",
        "\n",
        "  def __getitem__(self,index):\n",
        "\n",
        "    curr = self.head\n",
        "    pos = 0\n",
        "\n",
        "    while curr != None:\n",
        "      if pos == index:\n",
        "        return curr.data\n",
        "      curr = curr.next\n",
        "      pos = pos + 1\n",
        "\n",
        "    return 'IndexError'\n",
        "  \n",
        "  def reverse(self):\n",
        "    prev_node = None\n",
        "    curr_node = self.head\n",
        "\n",
        "    while curr_node != None:\n",
        "      next_node = curr_node.next\n",
        "      curr_node.next = prev_node\n",
        "      prev_node = curr_node\n",
        "      curr_node = next_node\n",
        "\n",
        "    self.head = prev_node"
      ]
    },
    {
      "cell_type": "code",
      "execution_count": 29,
      "metadata": {
        "id": "gWf5rFdZS-3p"
      },
      "outputs": [],
      "source": [
        "L = LinkedList()"
      ]
    },
    {
      "cell_type": "code",
      "execution_count": 30,
      "metadata": {
        "id": "Z5yMPIzQTCZr"
      },
      "outputs": [],
      "source": [
        "L.append(3)\n",
        "L.append(2)\n",
        "L.append(1)\n",
        "L.insert_head(4)\n",
        "# L.delete_head()"
      ]
    },
    {
      "cell_type": "code",
      "execution_count": 31,
      "metadata": {
        "colab": {
          "base_uri": "https://localhost:8080/"
        },
        "id": "4HQ9RdjSTEhX",
        "outputId": "65cf9986-4a61-418b-b0fe-814b286b5224"
      },
      "outputs": [
        {
          "name": "stdout",
          "output_type": "stream",
          "text": [
            "4 3 2 1 \n"
          ]
        }
      ],
      "source": [
        "print(L)"
      ]
    },
    {
      "cell_type": "code",
      "execution_count": 32,
      "metadata": {},
      "outputs": [],
      "source": [
        "L.reverse()"
      ]
    },
    {
      "cell_type": "code",
      "execution_count": 33,
      "metadata": {
        "colab": {
          "base_uri": "https://localhost:8080/"
        },
        "id": "Sgp2ql-PYYJw",
        "outputId": "3355ea8e-5f0f-4021-ffed-d1487fc72a7e"
      },
      "outputs": [
        {
          "name": "stdout",
          "output_type": "stream",
          "text": [
            "1 2 3 4 \n"
          ]
        }
      ],
      "source": [
        "print(L)"
      ]
    },
    {
      "cell_type": "code",
      "execution_count": null,
      "metadata": {},
      "outputs": [],
      "source": []
    }
  ],
  "metadata": {
    "colab": {
      "provenance": []
    },
    "kernelspec": {
      "display_name": "Python 3",
      "name": "python3"
    },
    "language_info": {
      "codemirror_mode": {
        "name": "ipython",
        "version": 3
      },
      "file_extension": ".py",
      "mimetype": "text/x-python",
      "name": "python",
      "nbconvert_exporter": "python",
      "pygments_lexer": "ipython3",
      "version": "3.13.1"
    }
  },
  "nbformat": 4,
  "nbformat_minor": 0
}
