{
 "cells": [
  {
   "cell_type": "code",
   "execution_count": null,
   "metadata": {},
   "outputs": [],
   "source": [
    "import numpy as np\n",
    "import pandas as pd\n",
    "from scipy import stats"
   ]
  },
  {
   "cell_type": "markdown",
   "metadata": {},
   "source": [
    "# Numerical data"
   ]
  },
  {
   "cell_type": "code",
   "execution_count": null,
   "metadata": {},
   "outputs": [],
   "source": [
    "# One-Sample t-Test\n",
    "t_stat, p_value = stats.ttest_1samp(calories, 2000) # pop_mean = 2000"
   ]
  },
  {
   "cell_type": "code",
   "execution_count": null,
   "metadata": {},
   "outputs": [],
   "source": [
    "# Independent t-Test (Unpaired t-Test)\n",
    "t_stat, p_value = stats.ttest_ind(men, women)\n",
    "\n",
    "# Mann-Whitney U Test (Non-Parametric)\n",
    "stat, p_value = stats.mannwhitneyu(group1, group2)"
   ]
  },
  {
   "cell_type": "code",
   "execution_count": null,
   "metadata": {},
   "outputs": [],
   "source": [
    "# Paired t-Test (Dependent t-Test)\n",
    "t_stat, p_value = stats.ttest_rel(before, after)\n",
    "\n",
    "# Wilcoxon Signed-Rank Test (Non-Parametric)\n",
    "stat, p_value = stats.wilcoxon(pain_before, pain_after)"
   ]
  },
  {
   "cell_type": "code",
   "execution_count": null,
   "metadata": {},
   "outputs": [],
   "source": [
    "# ANOVA (Compare 3+ Groups)\n",
    "f_stat, p_value = stats.f_oneway(diet1, diet2, diet3)\n",
    "\n",
    "# Kruskal-Wallis Test (Non-Parametric ANOVA)\n",
    "stat, p_value = stats.kruskal(group1, group2, group3)"
   ]
  },
  {
   "cell_type": "markdown",
   "metadata": {},
   "source": [
    "# Categorical Data"
   ]
  },
  {
   "cell_type": "code",
   "execution_count": null,
   "metadata": {},
   "outputs": [],
   "source": [
    "# Chi-Square Goodness-of-Fit Test\n",
    "chi2_stat, p_value = stats.chisquare(observed, expected) # expected = assuming fair means same all\n",
    "\n",
    "# Binomial Test \n",
    "from scipy.stats import binom_test\n",
    "# Observed data: 40 heads out of 100 times coin flips ::: expected head prob: 0.5 \n",
    "p_value = binom_test(successes, trials, p_expected, alternative='two-sided')"
   ]
  },
  {
   "cell_type": "code",
   "execution_count": null,
   "metadata": {},
   "outputs": [],
   "source": [
    "# Chi-Square Test of Independence\n",
    "table = np.array([[30, 10],  # Smokers: 30 have disease, 10 don’t\n",
    "                 [15, 45]]) # Non-smokers: 15 have disease, 45 don’t\n",
    "chi2_stat, p_value, _, _ = stats.chi2_contingency(table)  # Contingency table\n",
    "\n",
    "# Fisher’s Exact Test (For Small Sample Categorical Data)\n",
    "_, p_value = stats.fisher_exact(table)"
   ]
  },
  {
   "cell_type": "code",
   "execution_count": null,
   "metadata": {},
   "outputs": [],
   "source": [
    "# McNemar’s Test (Paired Categorical Data)\n",
    "from statsmodels.stats.contingency_tables import mcnemar\n",
    "\n",
    "# Contingency table (Before | After)\n",
    "table = np.array([[30, 5],  # Preferred Old | Preferred New\n",
    "                  [10, 55]]) # Preferred New | Preferred Old\n",
    "mcn_stat, p_value = mcnemar(table)"
   ]
  },
  {
   "cell_type": "markdown",
   "metadata": {},
   "source": [
    "# Relation b/w two variables"
   ]
  },
  {
   "cell_type": "code",
   "execution_count": null,
   "metadata": {},
   "outputs": [],
   "source": [
    "# Pearson Correlation\n",
    "correlation, p_value = stats.pearsonr(temperature, sales)\n",
    "\n",
    "# Spearman Correlation (For Ranked/Ordinal Data)\n",
    "correlation, p_value = stats.spearmanr(rank, GPA)"
   ]
  }
 ],
 "metadata": {
  "kernelspec": {
   "display_name": "Python 3",
   "language": "python",
   "name": "python3"
  },
  "language_info": {
   "codemirror_mode": {
    "name": "ipython",
    "version": 3
   },
   "file_extension": ".py",
   "mimetype": "text/x-python",
   "name": "python",
   "nbconvert_exporter": "python",
   "pygments_lexer": "ipython3",
   "version": "3.13.1"
  }
 },
 "nbformat": 4,
 "nbformat_minor": 2
}
